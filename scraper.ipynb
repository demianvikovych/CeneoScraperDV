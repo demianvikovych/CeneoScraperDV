{
 "cells": [
  {
   "attachments": {},
   "cell_type": "markdown",
   "metadata": {},
   "source": [
    "# Ceneo Scraper"
   ]
  },
  {
   "attachments": {},
   "cell_type": "markdown",
   "metadata": {},
   "source": [
    "## Imports"
   ]
  },
  {
   "cell_type": "code",
   "execution_count": 57,
   "metadata": {},
   "outputs": [],
   "source": [
    "import os\n",
    "import json\n",
    "import requests\n",
    "from bs4 import  BeautifulSoup"
   ]
  },
  {
   "attachments": {},
   "cell_type": "markdown",
   "metadata": {},
   "source": [
    "## Definition of exctraction function"
   ]
  },
  {
   "cell_type": "code",
   "execution_count": 58,
   "metadata": {},
   "outputs": [],
   "source": [
    "def extract_content(ancestor,selector=None, attribute=None,return_list=False):\n",
    "    if selector:\n",
    "\n",
    "        if return_list:\n",
    "            if attribute:\n",
    "                return [tag[attribute].strip() for tag in ancestor.select(selector)]\n",
    "            return [tag.text.strip() for tag in ancestor.select(selector)]\n",
    "        if attribute:\n",
    "            try:\n",
    "\n",
    "                return ancestor.select_one(selector)[attribute].strip()\n",
    "            except TypeError:\n",
    "                return None\n",
    "        try:\n",
    "            return ancestor.select_one(selector).text.strip()\n",
    "        except AttributeError:\n",
    "            return None\n",
    "        return ancestor.select_one(selector).text.strip()\n",
    "    if attribute:\n",
    "\n",
    "        return ancestor[attribute]\n",
    "    return ancestor.text.strip()\n"
   ]
  },
  {
   "attachments": {},
   "cell_type": "markdown",
   "metadata": {},
   "source": [
    "##  dictionary with Opinion structure"
   ]
  },
  {
   "cell_type": "code",
   "execution_count": 64,
   "metadata": {},
   "outputs": [],
   "source": [
    "\n",
    "selectors= { \n",
    "    \"opinion_id\": (None,'data-entry-id'), \n",
    "    \"author\": (\"span.user-post__author-name\",), \n",
    "    \"authors_recommendation\": (\"span.user-post__author-recomendation > em\",), \n",
    "    \"stars\": (\"span.user-post__score-count\",), \n",
    "    \"content\": (\"div.user-post__text\",), \n",
    "    \"pros\": (\"div.review-feature__title--positives ~ div.review-feature__item\",None , True), \n",
    "    \"cons\": (\"div.review-feature__title--negatives ~ div.review-feature__item\", None, True), \n",
    "    \"helpful\": (\"button.vote-yes > span\",), \n",
    "    \"unhelpful\": (\"button.vote-no > span\",), \n",
    "    \"publish_date\": (\"span.user-post__published > time:nth-child(1)\",\"datetime\"), \n",
    "    \"purchase_date\": (\"span.user-post__published > time:nth-child(2)\",\"datetime\"), \n",
    "}"
   ]
  },
  {
   "attachments": {},
   "cell_type": "markdown",
   "metadata": {},
   "source": [
    "# Send request to Ceneo.pl service"
   ]
  },
  {
   "cell_type": "code",
   "execution_count": 68,
   "metadata": {},
   "outputs": [],
   "source": [
    "product_id = \"108290707\"\n",
    "url = f\"https://www.ceneo.pl/{product_id}#tab=reviews\""
   ]
  },
  {
   "attachments": {},
   "cell_type": "markdown",
   "metadata": {},
   "source": [
    "## Convert plain text HTML code to DOM structure"
   ]
  },
  {
   "attachments": {},
   "cell_type": "markdown",
   "metadata": {},
   "source": [
    "##  components of single opinion\n",
    "\n",
    "|Component|Selector|Variable|\n",
    "|---------|--------|--------|\n",
    "|opinion ID|[\"data-entry-id\"]|opinion_id|\n",
    "|opinion’s author|span.user-post__author-name|author|\n",
    "|author’s recommendation|span.user-post__author-recomendation em|recommendation|\n",
    "|score expressed in number of stars|span.user-post__score-count|score|\n",
    "|opinion’s content|div.user-post__text|content|\n",
    "|list of product advantages|div.review-feature--positives ~ div.review-feature__item|advantages|\n",
    "|list of product disadvantages|div.review-feature--negatives ~ div.review-feature__item |disadvantages|\n",
    "|how many users think that opinion was helpful|button.vote-yes > span|helpful|\n",
    "|how many users think that opinion was unhelpful|button.vote-no > span|not_helpful|\n",
    "|publishing date|span.user-post__published > time:nth-child(1)[\"datetime\"]|pub_date|\n",
    "|purchase date|span.user-post__published > time:nth-child(2)[\"datetime\"]|pur_date|\n",
    "\n"
   ]
  },
  {
   "cell_type": "markdown",
   "metadata": {},
   "source": [
    "## extract all opinions about product"
   ]
  },
  {
   "cell_type": "code",
   "execution_count": 71,
   "metadata": {},
   "outputs": [
    {
     "name": "stdout",
     "output_type": "stream",
     "text": [
      "https://www.ceneo.pl/108290707#tab=reviews\n",
      "<div class=\"user-post user-post__card js_product-review\" data-entry-id=\"17349010\">\n",
      "<header class=\"user-post__header\">\n",
      "<div class=\"js_lazy user-post__avatar user-rank__avatar\" data-bg=\"/Content/img/account/avatar/6.svg\"></div>\n",
      "</header>\n",
      "<div class=\"user-post__body\">\n",
      "<div class=\"user-post__content\">\n",
      "<span class=\"user-post__author-name\">\n",
      "KamilZ1</span>\n",
      "<span class=\"user-post__author-recomendation\">\n",
      "<em class=\"recommended\">Polecam</em>\n",
      "</span>\n",
      "<span class=\"user-post__score\">\n",
      "<span class=\"screen-reader-text\">Ocena:</span>\n",
      "<span class=\"score-container score-container--s js_score-container\">\n",
      "<span class=\"score-marker score-marker--s\" style=\"width: 100.00%;\"></span>\n",
      "</span>\n",
      "<span class=\"user-post__score-count\">5/5</span>\n",
      "<span class=\"user-post__published\">\n",
      "        Wystawiono\n",
      "        <time datetime=\"2023-03-31 23:03:01\">2 lata temu, </time>\n",
      "<time datetime=\"2021-08-05 17:01:22\">po 2 latach</time> użytkowania            </span>\n",
      "</span>\n",
      "<div class=\"user-post__text\">W obudowie przypominającej niewielką drukarkę, kryje się urządzenie wielofunkcyjne, które posiada funkcję drukowania, skanowania oraz kopiowania. I właśnie niewielkie rozmiary i kompaktowość są największymi zaletami HP DeskJet 3762. Urządzenie nie zajmuje wiele miejsca i przez to idealnie nadaje się do domu, gdzie nie mamy wydzielonego pomieszczenia biurowego, a jedynie kącik do pracy. Kolejną zaletą jest na pewno cena. W tym przedziale cenowym trudno znaleźć urządzenie o takich parametrach i takiej wydajności. Jakość wydruków również pozytywnie zaskakuje, choć trzeba uczciwie przyznać, że nie jest to demon prędkości. Na plus można zaliczyć także drukowanie bezprzewodowe, które samo w sobie jest bardzo praktycznym rozwiązaniem, a w  HP DeskJet 3762 działa bez zarzutu. Jakość wykonania w porządku, design to rzecz gustu, ale fajnie jakby była możliwość wyboru kolorystyki – turkusowy nie każdemu przypadnie do gustu. Podsumowując, urządzenie polecam każdemu do domowego użytku.</div>\n",
      "<div class=\"review-feature\">\n",
      "<div class=\"review-feature__col\">\n",
      "<div class=\"review-feature__title review-feature__title--positives\">Zalety</div>\n",
      "<div class=\"review-feature__item\">kompaktowa</div>\n",
      "<div class=\"review-feature__item\">stosunkowo tania</div>\n",
      "<div class=\"review-feature__item\">wydajność</div>\n",
      "</div>\n",
      "</div>\n",
      "<div class=\"review-pictures js_product-review-carousel\" data-hide-controls=\"true\">\n",
      "<div class=\"review-pictures__item js_product-image-miniature_el active\">\n",
      "<a class=\"js_gallery-trigger js_gallery-item js_gallery-anchor\" data-index=\"0\" data-type=\"img_user\" href=\"//image.ceneostatic.pl/data/reviews/17349010/52694eeb-f92d-4e0f-8ebf-56212107410c_r-hp-deskjet-3762-aio-instant-ink-t8x23b.jpg\">\n",
      "<img alt=\"HP DeskJet 3762 AiO Instant Ink (T8X23B)\" class=\"js_gallery-media js_review-product-thumb js_gallery-photo review-pictures__photo js_lazy\" data-abuse-product-id=\"108290707\" data-abuse-report-type=\"1\" data-abuse-review-id=\"17349010\" data-original=\"//image.ceneostatic.pl/data/reviews/17349010/52694eeb-f92d-4e0f-8ebf-56212107410c_t-hp-deskjet-3762-aio-instant-ink-t8x23b.jpg?t=1680517885\" src=\"\"/>\n",
      "</a>\n",
      "</div>\n",
      "<div class=\"review-pictures__item js_product-image-miniature_el active\">\n",
      "<a class=\"js_gallery-trigger js_gallery-item js_gallery-anchor\" data-index=\"1\" data-type=\"img_user\" href=\"//image.ceneostatic.pl/data/reviews/17349010/7ae1d28e-eb27-414d-b4f6-d66492760e2c_r-hp-deskjet-3762-aio-instant-ink-t8x23b.jpg\">\n",
      "<img alt=\"HP DeskJet 3762 AiO Instant Ink (T8X23B)\" class=\"js_gallery-media js_review-product-thumb js_gallery-photo review-pictures__photo js_lazy\" data-abuse-product-id=\"108290707\" data-abuse-report-type=\"1\" data-abuse-review-id=\"17349010\" data-original=\"//image.ceneostatic.pl/data/reviews/17349010/7ae1d28e-eb27-414d-b4f6-d66492760e2c_t-hp-deskjet-3762-aio-instant-ink-t8x23b.jpg?t=1680517890\" src=\"\"/>\n",
      "</a>\n",
      "</div>\n",
      "<div class=\"review-pictures__item js_product-image-miniature_el active\">\n",
      "<a class=\"js_gallery-trigger js_gallery-item js_gallery-anchor\" data-index=\"2\" data-type=\"img_user\" href=\"//image.ceneostatic.pl/data/reviews/17349010/31b0e07f-5b86-4fde-a544-c334fc83a985_r-hp-deskjet-3762-aio-instant-ink-t8x23b.jpg\">\n",
      "<img alt=\"HP DeskJet 3762 AiO Instant Ink (T8X23B)\" class=\"js_gallery-media js_review-product-thumb js_gallery-photo review-pictures__photo js_lazy\" data-abuse-product-id=\"108290707\" data-abuse-report-type=\"1\" data-abuse-review-id=\"17349010\" data-original=\"//image.ceneostatic.pl/data/reviews/17349010/31b0e07f-5b86-4fde-a544-c334fc83a985_t-hp-deskjet-3762-aio-instant-ink-t8x23b.jpg?t=1680517890\" src=\"\"/>\n",
      "</a>\n",
      "</div>\n",
      "<div class=\"review-pictures__item js_product-image-miniature_el active\">\n",
      "<a class=\"js_gallery-trigger js_gallery-item js_gallery-anchor\" data-index=\"3\" data-type=\"img_user\" href=\"//image.ceneostatic.pl/data/reviews/17349010/bd482f2a-9651-4427-be98-6627bbd59224_r-hp-deskjet-3762-aio-instant-ink-t8x23b.jpg\">\n",
      "<img alt=\"HP DeskJet 3762 AiO Instant Ink (T8X23B)\" class=\"js_gallery-media js_review-product-thumb js_gallery-photo review-pictures__photo js_lazy\" data-abuse-product-id=\"108290707\" data-abuse-report-type=\"1\" data-abuse-review-id=\"17349010\" data-original=\"//image.ceneostatic.pl/data/reviews/17349010/bd482f2a-9651-4427-be98-6627bbd59224_t-hp-deskjet-3762-aio-instant-ink-t8x23b.jpg?t=1680517891\" src=\"\"/>\n",
      "</a>\n",
      "</div>\n",
      "</div>\n",
      "<div class=\"user-post__bottom\">\n",
      "</div>\n",
      "</div>\n",
      "<div class=\"user-post__info\">\n",
      "<div class=\"d-flex align-items-center justify-content-end\">\n",
      "<div class=\"js_product-review-usefulness vote\">\n",
      "<button class=\"vote-yes js_product-review-vote js_vote-yes\" data-new-icon=\"vote-up\" data-product-id=\"108290707\" data-review-id=\"17349010\" data-total-vote=\"0\" data-url=\"SetOpinionVote\" data-vote=\"1\" data-voted=\"false\"><span id=\"votes-yes-17349010\">0</span></button>\n",
      "<button class=\"vote-no js_product-review-vote js_vote-no\" data-new-icon=\"vote-down\" data-product-id=\"108290707\" data-review-id=\"17349010\" data-total-vote=\"0\" data-url=\"SetOpinionVote\" data-vote=\"0\" data-voted=\"false\"><span id=\"votes-no-17349010\">0</span></button>\n",
      "</div>\n",
      "<div class=\"dropdown-wrapper\">\n",
      "<span class=\"dots-icon-vert\" data-toggle=\"dropdown\"></span>\n",
      "<ul class=\"dropdown-menu force-left\">\n",
      "<li class=\"dropdown-menu__item\" data-product-id=\"108290707\" data-review-id=\"17349010\">\n",
      "<div class=\"js_report-abuse report-abuse cursor-pointer\" data-report-type=\"1\" role=\"button\">\n",
      "<span>\n",
      "Zgłoś    </span>\n",
      "</div>\n",
      "</li>\n",
      "</ul>\n",
      "</div>\n",
      "</div>\n",
      "<div class=\"review-pz\" data-hint=\"Opinia została napisana przez Użytkownika, który kupił produkt.\">\n",
      "<em>Transakcja pochodzi z Marketplace Ceneo (usługi Kup Teraz).</em>\n",
      "</div>\n",
      "</div>\n",
      "<div class=\"js_product-review-comments js_product-review-hook js_product-review-comments-list\" id=\"product-review-comments-17349010\">\n",
      "<a class=\"user-post js_product-review-comment-toggle\" data-comments-count=\"1\" data-product-review-id=\"108290707\" data-review-id=\"17349010\" href=\"#product-review-comment-17349010\" role=\"button\">\n",
      "</a>\n",
      "<div class=\"js_product-review-form-hook\" id=\"product-review-comment-17349010\"></div>\n",
      "<div class=\"user-post js_comment-from-user\">\n",
      "<div class=\"user-post__header\">\n",
      "<div class=\"js_lazy user-post__avatar user-rank__avatar\" data-bg=\"/Content/img/account/avatar/3.svg\">\n",
      "</div>\n",
      "</div>\n",
      "<div class=\"user-post__body js_product-review-hook\" data-entry-id=\"524964\">\n",
      "<div class=\"user-post__content\">\n",
      "<span class=\"user-post__author-name\">\n",
      "                                maz9\n",
      "                            </span>\n",
      "<span class=\"user-post__score\">\n",
      "<span class=\"user-post__published\">Wystawiono <time datetime=\"2024-04-01 19:26:33\">3 tygodnie temu</time></span>\n",
      "</span>\n",
      "<div class=\"user-post__text\">\n",
      "                                U mnie drukuje jedną stronę PDF przez 5,5 minuty. Zaraz po zakupie drukowało bardzo szybko, ale sterowniki były niestabilne i co jakiś był komunikat o braku czarnego tuszu. Teraz mam wolniej, ale stabilniej.\n",
      "                            </div>\n",
      "<div class=\"user-post__bottom\">\n",
      "<a class=\"link link--accent user-post__reply product-review-comment-reply-toggle js_open-login-popup-button\" data-comment-id=\"524964\" data-name=\"maz9\" data-product-review-id=\"108290707\" data-review-id=\"17349010\" href=\"#product-review-comment-reply-524964\" rel=\"nofollow\">Odpowiedz</a>\n",
      "</div>\n",
      "</div>\n",
      "<div class=\"user-post__info\">\n",
      "<div class=\"dropdown-wrapper\">\n",
      "<span class=\"dots-icon-vert\" data-toggle=\"dropdown\"></span>\n",
      "<ul class=\"dropdown-menu force-left\">\n",
      "<li class=\"dropdown-menu__item\" data-comment-id=\"524964\" data-product-id=\"108290707\">\n",
      "<div class=\"js_report-abuse report-abuse cursor-pointer\" data-report-type=\"2\" role=\"button\">\n",
      "<span>\n",
      "Zgłoś    </span>\n",
      "</div>\n",
      "</li>\n",
      "</ul>\n",
      "</div>\n",
      "</div>\n",
      "<div class=\"js_product-review-form-hook\" id=\"product-review-comment-reply-524964\"></div>\n",
      "</div>\n",
      "</div>\n",
      "</div>\n",
      "</div>\n",
      "</div>\n"
     ]
    },
    {
     "ename": "KeyError",
     "evalue": "None",
     "output_type": "error",
     "traceback": [
      "\u001b[1;31m---------------------------------------------------------------------------\u001b[0m",
      "\u001b[1;31mKeyError\u001b[0m                                  Traceback (most recent call last)",
      "Cell \u001b[1;32mIn[71], line 10\u001b[0m\n\u001b[0;32m      8\u001b[0m \u001b[38;5;28;01mfor\u001b[39;00m opinion \u001b[38;5;129;01min\u001b[39;00m opinions: \n\u001b[0;32m      9\u001b[0m     \u001b[38;5;28mprint\u001b[39m(opinion)\n\u001b[1;32m---> 10\u001b[0m     single_opinion \u001b[38;5;241m=\u001b[39m \u001b[43m{\u001b[49m\u001b[43m \u001b[49m\n\u001b[0;32m     11\u001b[0m \u001b[43m        \u001b[49m\u001b[43mkey\u001b[49m\u001b[43m:\u001b[49m\u001b[43m \u001b[49m\u001b[43mextract_content\u001b[49m\u001b[43m(\u001b[49m\u001b[43mopinion\u001b[49m\u001b[43m,\u001b[49m\u001b[43m \u001b[49m\u001b[38;5;241;43m*\u001b[39;49m\u001b[43mvalue\u001b[49m\u001b[43m)\u001b[49m\u001b[43m \u001b[49m\n\u001b[0;32m     12\u001b[0m \u001b[43m            \u001b[49m\u001b[38;5;28;43;01mfor\u001b[39;49;00m\u001b[43m \u001b[49m\u001b[43mkey\u001b[49m\u001b[43m,\u001b[49m\u001b[43m \u001b[49m\u001b[43mvalue\u001b[49m\u001b[43m \u001b[49m\u001b[38;5;129;43;01min\u001b[39;49;00m\u001b[43m \u001b[49m\u001b[43mselectors\u001b[49m\u001b[38;5;241;43m.\u001b[39;49m\u001b[43mitems\u001b[49m\u001b[43m(\u001b[49m\u001b[43m)\u001b[49m\u001b[43m \u001b[49m\n\u001b[0;32m     13\u001b[0m \u001b[43m    \u001b[49m\u001b[43m}\u001b[49m\n\u001b[0;32m     14\u001b[0m     all_opinions\u001b[38;5;241m.\u001b[39mappend(single_opinion)  \n\u001b[0;32m     15\u001b[0m \u001b[38;5;28;01mtry\u001b[39;00m: \n",
      "Cell \u001b[1;32mIn[71], line 11\u001b[0m, in \u001b[0;36m<dictcomp>\u001b[1;34m(.0)\u001b[0m\n\u001b[0;32m      8\u001b[0m \u001b[38;5;28;01mfor\u001b[39;00m opinion \u001b[38;5;129;01min\u001b[39;00m opinions: \n\u001b[0;32m      9\u001b[0m     \u001b[38;5;28mprint\u001b[39m(opinion)\n\u001b[0;32m     10\u001b[0m     single_opinion \u001b[38;5;241m=\u001b[39m { \n\u001b[1;32m---> 11\u001b[0m         key: \u001b[43mextract_content\u001b[49m\u001b[43m(\u001b[49m\u001b[43mopinion\u001b[49m\u001b[43m,\u001b[49m\u001b[43m \u001b[49m\u001b[38;5;241;43m*\u001b[39;49m\u001b[43mvalue\u001b[49m\u001b[43m)\u001b[49m \n\u001b[0;32m     12\u001b[0m             \u001b[38;5;28;01mfor\u001b[39;00m key, value \u001b[38;5;129;01min\u001b[39;00m selectors\u001b[38;5;241m.\u001b[39mitems() \n\u001b[0;32m     13\u001b[0m     }\n\u001b[0;32m     14\u001b[0m     all_opinions\u001b[38;5;241m.\u001b[39mappend(single_opinion)  \n\u001b[0;32m     15\u001b[0m \u001b[38;5;28;01mtry\u001b[39;00m: \n",
      "Cell \u001b[1;32mIn[58], line 15\u001b[0m, in \u001b[0;36mextract_content\u001b[1;34m(ancestor, selector, attribute, return_list)\u001b[0m\n\u001b[0;32m     13\u001b[0m         \u001b[38;5;28;01mreturn\u001b[39;00m \u001b[38;5;28;01mNone\u001b[39;00m\n\u001b[0;32m     14\u001b[0m \u001b[38;5;28;01mtry\u001b[39;00m:\n\u001b[1;32m---> 15\u001b[0m     \u001b[38;5;28;01mreturn\u001b[39;00m \u001b[43mancestor\u001b[49m\u001b[38;5;241;43m.\u001b[39;49m\u001b[43mselect_one\u001b[49m\u001b[43m(\u001b[49m\u001b[43mselector\u001b[49m\u001b[43m)\u001b[49m\u001b[43m[\u001b[49m\u001b[43mattribute\u001b[49m\u001b[43m]\u001b[49m\u001b[38;5;241m.\u001b[39mtext\u001b[38;5;241m.\u001b[39mstrip()\n\u001b[0;32m     16\u001b[0m \u001b[38;5;28;01mexcept\u001b[39;00m \u001b[38;5;167;01mAttributeError\u001b[39;00m:\n\u001b[0;32m     17\u001b[0m     \u001b[38;5;28;01mreturn\u001b[39;00m \u001b[38;5;28;01mNone\u001b[39;00m\n",
      "File \u001b[1;32mc:\\Users\\en-013-30\\Desktop\\fold\\CeneoScraperDV\\.venv\\Lib\\site-packages\\bs4\\element.py:1573\u001b[0m, in \u001b[0;36mTag.__getitem__\u001b[1;34m(self, key)\u001b[0m\n\u001b[0;32m   1570\u001b[0m \u001b[38;5;28;01mdef\u001b[39;00m \u001b[38;5;21m__getitem__\u001b[39m(\u001b[38;5;28mself\u001b[39m, key):\n\u001b[0;32m   1571\u001b[0m \u001b[38;5;250m    \u001b[39m\u001b[38;5;124;03m\"\"\"tag[key] returns the value of the 'key' attribute for the Tag,\u001b[39;00m\n\u001b[0;32m   1572\u001b[0m \u001b[38;5;124;03m    and throws an exception if it's not there.\"\"\"\u001b[39;00m\n\u001b[1;32m-> 1573\u001b[0m     \u001b[38;5;28;01mreturn\u001b[39;00m \u001b[38;5;28;43mself\u001b[39;49m\u001b[38;5;241;43m.\u001b[39;49m\u001b[43mattrs\u001b[49m\u001b[43m[\u001b[49m\u001b[43mkey\u001b[49m\u001b[43m]\u001b[49m\n",
      "\u001b[1;31mKeyError\u001b[0m: None"
     ]
    }
   ],
   "source": [
    "all_opinions=[] \n",
    "while(url): \n",
    "    print(url)\n",
    "    response = requests.get(url) \n",
    "    response.status_code \n",
    "    page_dom = BeautifulSoup(response.text, \"html.parser\") \n",
    "    opinions = page_dom.select(\"div.js_product-review\") \n",
    "    for opinion in opinions: \n",
    "        single_opinion = { \n",
    "            key: extract_content(opinion, *value) \n",
    "                for key, value in selectors.items() \n",
    "        }\n",
    "        all_opinions.append(single_opinion)  \n",
    "    try: \n",
    "        url = \"https://www.ceneo.pl\"+extract_content(page_dom,\"a.pagination__next\",\"href\") \n",
    "    except TypeError: \n",
    "        url = None"
   ]
  },
  {
   "cell_type": "code",
   "execution_count": null,
   "metadata": {},
   "outputs": [],
   "source": [
    "if not os.path.exists(\"opinions\"): \n",
    "    os.mkdir(\"opinions\") \n",
    "with open(f\"opinions/{product_id}.json\", \"w\", encoding=\"UTF-8\") as jf: \n",
    "    json.dump(all_opinions, jf, indent=4 , ensure_ascii=False)\n",
    "\n"
   ]
  },
  {
   "cell_type": "code",
   "execution_count": null,
   "metadata": {},
   "outputs": [],
   "source": [
    "len(all_opinions)"
   ]
  },
  {
   "cell_type": "code",
   "execution_count": 75,
   "metadata": {},
   "outputs": [
    {
     "name": "stdout",
     "output_type": "stream",
     "text": [
      "opinion_id\n",
      "17349010\n",
      "author\n"
     ]
    },
    {
     "ename": "KeyError",
     "evalue": "None",
     "output_type": "error",
     "traceback": [
      "\u001b[1;31m---------------------------------------------------------------------------\u001b[0m",
      "\u001b[1;31mKeyError\u001b[0m                                  Traceback (most recent call last)",
      "Cell \u001b[1;32mIn[75], line 3\u001b[0m\n\u001b[0;32m      1\u001b[0m \u001b[38;5;28;01mfor\u001b[39;00m key, value \u001b[38;5;129;01min\u001b[39;00m selectors\u001b[38;5;241m.\u001b[39mitems():\n\u001b[0;32m      2\u001b[0m     \u001b[38;5;28mprint\u001b[39m(key)\n\u001b[1;32m----> 3\u001b[0m     \u001b[38;5;28mprint\u001b[39m(\u001b[43mextract_content\u001b[49m\u001b[43m(\u001b[49m\u001b[43mopinion\u001b[49m\u001b[43m,\u001b[49m\u001b[43m \u001b[49m\u001b[38;5;241;43m*\u001b[39;49m\u001b[43mvalue\u001b[49m\u001b[43m)\u001b[49m)\n\u001b[0;32m      5\u001b[0m \u001b[38;5;66;03m# single_opinion = { \u001b[39;00m\n\u001b[0;32m      6\u001b[0m \u001b[38;5;66;03m#     key: extract_content(opinion, *value) \u001b[39;00m\n\u001b[0;32m      7\u001b[0m \u001b[38;5;66;03m#         for key, value in selectors.items() \u001b[39;00m\n\u001b[0;32m      8\u001b[0m \u001b[38;5;66;03m# }\u001b[39;00m\n",
      "Cell \u001b[1;32mIn[58], line 15\u001b[0m, in \u001b[0;36mextract_content\u001b[1;34m(ancestor, selector, attribute, return_list)\u001b[0m\n\u001b[0;32m     13\u001b[0m         \u001b[38;5;28;01mreturn\u001b[39;00m \u001b[38;5;28;01mNone\u001b[39;00m\n\u001b[0;32m     14\u001b[0m \u001b[38;5;28;01mtry\u001b[39;00m:\n\u001b[1;32m---> 15\u001b[0m     \u001b[38;5;28;01mreturn\u001b[39;00m \u001b[43mancestor\u001b[49m\u001b[38;5;241;43m.\u001b[39;49m\u001b[43mselect_one\u001b[49m\u001b[43m(\u001b[49m\u001b[43mselector\u001b[49m\u001b[43m)\u001b[49m\u001b[43m[\u001b[49m\u001b[43mattribute\u001b[49m\u001b[43m]\u001b[49m\u001b[38;5;241m.\u001b[39mtext\u001b[38;5;241m.\u001b[39mstrip()\n\u001b[0;32m     16\u001b[0m \u001b[38;5;28;01mexcept\u001b[39;00m \u001b[38;5;167;01mAttributeError\u001b[39;00m:\n\u001b[0;32m     17\u001b[0m     \u001b[38;5;28;01mreturn\u001b[39;00m \u001b[38;5;28;01mNone\u001b[39;00m\n",
      "File \u001b[1;32mc:\\Users\\en-013-30\\Desktop\\fold\\CeneoScraperDV\\.venv\\Lib\\site-packages\\bs4\\element.py:1573\u001b[0m, in \u001b[0;36mTag.__getitem__\u001b[1;34m(self, key)\u001b[0m\n\u001b[0;32m   1570\u001b[0m \u001b[38;5;28;01mdef\u001b[39;00m \u001b[38;5;21m__getitem__\u001b[39m(\u001b[38;5;28mself\u001b[39m, key):\n\u001b[0;32m   1571\u001b[0m \u001b[38;5;250m    \u001b[39m\u001b[38;5;124;03m\"\"\"tag[key] returns the value of the 'key' attribute for the Tag,\u001b[39;00m\n\u001b[0;32m   1572\u001b[0m \u001b[38;5;124;03m    and throws an exception if it's not there.\"\"\"\u001b[39;00m\n\u001b[1;32m-> 1573\u001b[0m     \u001b[38;5;28;01mreturn\u001b[39;00m \u001b[38;5;28;43mself\u001b[39;49m\u001b[38;5;241;43m.\u001b[39;49m\u001b[43mattrs\u001b[49m\u001b[43m[\u001b[49m\u001b[43mkey\u001b[49m\u001b[43m]\u001b[49m\n",
      "\u001b[1;31mKeyError\u001b[0m: None"
     ]
    }
   ],
   "source": [
    "for key, value in selectors.items():\n",
    "    print(key)\n",
    "    print(extract_content(opinion, *value))\n",
    "\n",
    "# single_opinion = { \n",
    "#     key: extract_content(opinion, *value) \n",
    "#         for key, value in selectors.items() \n",
    "# }"
   ]
  }
 ],
 "metadata": {
  "kernelspec": {
   "display_name": ".venv",
   "language": "python",
   "name": "python3"
  },
  "language_info": {
   "codemirror_mode": {
    "name": "ipython",
    "version": 3
   },
   "file_extension": ".py",
   "mimetype": "text/x-python",
   "name": "python",
   "nbconvert_exporter": "python",
   "pygments_lexer": "ipython3",
   "version": "3.11.4"
  },
  "orig_nbformat": 4
 },
 "nbformat": 4,
 "nbformat_minor": 2
}
